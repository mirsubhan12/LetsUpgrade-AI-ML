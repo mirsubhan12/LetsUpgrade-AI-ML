{
  "nbformat": 4,
  "nbformat_minor": 0,
  "metadata": {
    "colab": {
      "name": "Day1.ipynb",
      "provenance": []
    },
    "kernelspec": {
      "name": "python3",
      "display_name": "Python 3"
    }
  },
  "cells": [
    {
      "cell_type": "code",
      "metadata": {
        "id": "auk7jYqsD6p-",
        "colab_type": "code",
        "colab": {}
      },
      "source": [
        "# Python program to add \n",
        "# two complex numbers \n",
        "  \n",
        "  \n",
        "# function that returns \n",
        "# a complex number after \n",
        "# adding \n",
        "def addComplex( z1, z2): \n",
        "    return z1 + z2 \n",
        "  \n",
        "# Driver's code \n",
        "z1 = complex(2, 3) \n",
        "z2 = complex(1, 2) \n",
        "print( \"Addtion is : \", addComplex(z1, z2)) \n",
        "\n",
        "\n",
        "\n",
        ">>> def root(n, r=4):\n",
        "...     from numpy import roots\n",
        "...     return roots([1]+[0]*(r-1)+[-n])\n",
        "...\n",
        ">>> print(root(12)\n",
        "\n",
        "\n",
        "num1 = input('Enter First Number: ')\n",
        "num2 = input('Enter Second Number: ')\n",
        "\n",
        "print(\"Value of num1 before swapping: \", num1)\n",
        "print(\"Value of num2 before swapping: \", num2)\n",
        "\n",
        "# swapping two numbers using temporary variable\n",
        "temp = num1\n",
        "num1 = num2\n",
        "num2 = temp\n",
        "\n",
        "print(\"Value of num1 after swapping: \", num1)\n",
        "print(\"Value of num2 after swapping: \", num2)\n",
        "\n",
        "\n",
        "\n",
        "def Fahrenheit_to_Kelvin(F): \n",
        "    return 273.5 + ((F - 32.0) * (5.0/9.0)) \n",
        "  \n",
        "# Driver function \n",
        "F = 100\n",
        "print(\"Temperature in Kelvin ( K ) = {:.3f}\" \n",
        "            .format(Fahrenheit_to_Kelvin( F ))) "
      ],
      "execution_count": null,
      "outputs": []
    }
  ]
}