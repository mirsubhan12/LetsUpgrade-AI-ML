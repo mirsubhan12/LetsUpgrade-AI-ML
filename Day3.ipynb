{
  "nbformat": 4,
  "nbformat_minor": 0,
  "metadata": {
    "colab": {
      "name": "Day3.ipynb",
      "provenance": []
    },
    "kernelspec": {
      "name": "python3",
      "display_name": "Python 3"
    }
  },
  "cells": [
    {
      "cell_type": "code",
      "metadata": {
        "id": "4gZxeiTgKUlT",
        "colab_type": "code",
        "colab": {}
      },
      "source": [
        "lower = 1\n",
        "upper = 25\n",
        "\n",
        "print(\"Prime numbers between\", lower, \"and\", upper, \"are:\")\n",
        "\n",
        "for num in range(lower, upper + 1):\n",
        "   # all prime numbers are greater than 1\n",
        "   if num > 1:\n",
        "       for i in range(2, num):\n",
        "           if (num % i) == 0:\n",
        "               break\n",
        "       else:\n",
        "           print(num)\n",
        "\n",
        " Python string examples - all assignments are identical.\n",
        "String_var = 'Python'\n",
        "String_var = \"Python\"\n",
        "String_var = \"\"\"Python\"\"\"\n",
        "\n",
        "# with Triple quotes Strings can extend to multiple lines\n",
        "String_var = \"\"\" This document will help you to\n",
        "explore all the concepts\n",
        "of Python Strings!!! \"\"\"\n",
        "\n",
        "# Replace \"document\" with \"tutorial\" and store in another variable\n",
        "substr_var = String_var.replace(\"document\", \"tutorial\")\n",
        "print (substr_var)\n",
        "\n",
        "# example\n",
        "for var in var1: print (var, end =\"\")\n",
        "# Python\n",
        "\n",
        "# example\n",
        "print (r'\\n')\n",
        "# \\n\n",
        "print (R'\\n')\n",
        "# \\n\n",
        "\n",
        "print (\"Python is a \"widely\" used language\")\n",
        "\n",
        "# SyntaxError: invalid syntax\n",
        "\n",
        "# After escaping with double-quotes\n",
        "\n",
        "print (\"Python is a \\\"widely\\\" used language\")\n",
        "\n",
        "# Output: Python is a \"widely\" used language\n",
        "\n",
        "print (u' Hello Python!!')\n",
        "\n",
        "#Hello Python"
      ],
      "execution_count": null,
      "outputs": []
    }
  ]
}