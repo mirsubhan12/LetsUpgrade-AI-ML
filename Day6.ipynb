{
  "nbformat": 4,
  "nbformat_minor": 0,
  "metadata": {
    "colab": {
      "name": "Day6.ipynb",
      "provenance": []
    },
    "kernelspec": {
      "name": "python3",
      "display_name": "Python 3"
    }
  },
  "cells": [
    {
      "cell_type": "code",
      "metadata": {
        "id": "UAqezLISLRWi",
        "colab_type": "code",
        "colab": {
          "base_uri": "https://localhost:8080/",
          "height": 51
        },
        "outputId": "3b44d65e-eda8-47c6-a704-a681aafb7243"
      },
      "source": [
        "items = input(\"Input comma separated sequence of words\")\n",
        "words = [word for word in items.split(\",\")]\n",
        "print(\",\".join(sorted(list(set(words)))))\n"
      ],
      "execution_count": 1,
      "outputs": [
        {
          "output_type": "stream",
          "text": [
            "Input comma separated sequence of wordshi,bye,go\n",
            "bye,go,hi\n"
          ],
          "name": "stdout"
        }
      ]
    },
    {
      "cell_type": "code",
      "metadata": {
        "id": "yn5pTApGLidT",
        "colab_type": "code",
        "colab": {
          "base_uri": "https://localhost:8080/",
          "height": 34
        },
        "outputId": "86f5b422-0d2a-4717-fc79-8cdfd555141b"
      },
      "source": [
        "email = \"some.name@somehost.com\"\n",
        "\n",
        "name, _, _ = email.partition(\"@\")  # returns before @, @, and after @\n",
        "splitname = name.split(\".\")        # splits on .\n",
        "\n",
        "print(splitname)"
      ],
      "execution_count": 2,
      "outputs": [
        {
          "output_type": "stream",
          "text": [
            "['some', 'name']\n"
          ],
          "name": "stdout"
        }
      ]
    },
    {
      "cell_type": "code",
      "metadata": {
        "id": "a399dMFGNHJp",
        "colab_type": "code",
        "colab": {
          "base_uri": "https://localhost:8080/",
          "height": 34
        },
        "outputId": "c3420187-8d00-4e02-a8eb-8d41d9c6184c"
      },
      "source": [
        "import re\n",
        "email = \"lahre@uber.com\"\n",
        "print(re.findall(r'\\w+[.]', email)[0][:-1])"
      ],
      "execution_count": 3,
      "outputs": [
        {
          "output_type": "stream",
          "text": [
            "uber\n"
          ],
          "name": "stdout"
        }
      ]
    },
    {
      "cell_type": "code",
      "metadata": {
        "id": "qdCOss8aNmQ4",
        "colab_type": "code",
        "colab": {
          "base_uri": "https://localhost:8080/",
          "height": 34
        },
        "outputId": "18cfd24f-7ecd-4a45-91db-01a21313465c"
      },
      "source": [
        "# getMissingNo takes list as argument \n",
        "def getMissingNo(A): \n",
        "\tn = len(A) \n",
        "\ttotal = (n + 1)*(n + 2)/2\n",
        "\tsum_of_A = sum(A) \n",
        "\treturn total - sum_of_A \n",
        "\n",
        "# Driver program to test the above function \n",
        "A = [1, 2, 4, 5, 6] \n",
        "miss = getMissingNo(A) \n",
        "print(miss) \n",
        " \n"
      ],
      "execution_count": 5,
      "outputs": [
        {
          "output_type": "stream",
          "text": [
            "3.0\n"
          ],
          "name": "stdout"
        }
      ]
    }
  ]
}